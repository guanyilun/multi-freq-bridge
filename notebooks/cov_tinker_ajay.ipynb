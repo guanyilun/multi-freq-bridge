{
 "cells": [
  {
   "cell_type": "code",
   "execution_count": 2,
   "metadata": {},
   "outputs": [],
   "source": [
    "# %%\n",
    "# Env\n",
    "import dotenv\n",
    "dotenv.load_dotenv()\n",
    "\n",
    "import sys, os\n",
    "dir_head = os.environ.get(\"REPO_DIR\", \".\")\n",
    "sys.path.insert(0, os.path.join(dir_head, \"../src\"))\n",
    "\n",
    "import numpy as np\n",
    "from pixell import enmap\n",
    "\n",
    "import warnings\n",
    "import itertools\n",
    "from scipy.ndimage import gaussian_filter\n",
    "import multiprocessing\n",
    "from functools import partial\n",
    "\n",
    "warnings.filterwarnings(\"ignore\")\n",
    "\n",
    "# Files from the src dir in git\n",
    "import utils as ut\n",
    "import covariance as cov\n",
    "\n",
    "import matplotlib.pyplot as plt\n",
    "import random"
   ]
  },
  {
   "cell_type": "code",
   "execution_count": null,
   "metadata": {},
   "outputs": [],
   "source": []
  }
 ],
 "metadata": {
  "kernelspec": {
   "display_name": "base",
   "language": "python",
   "name": "python3"
  },
  "language_info": {
   "codemirror_mode": {
    "name": "ipython",
    "version": 3
   },
   "file_extension": ".py",
   "mimetype": "text/x-python",
   "name": "python",
   "nbconvert_exporter": "python",
   "pygments_lexer": "ipython3",
   "version": "3.11.5"
  }
 },
 "nbformat": 4,
 "nbformat_minor": 2
}
